{
 "cells": [
  {
   "cell_type": "markdown",
   "metadata": {},
   "source": [
    "# Effective Python"
   ]
  },
  {
   "cell_type": "markdown",
   "metadata": {},
   "source": [
    "## CH 1: Pythonic Thinking\n",
    "\n",
    "### Item 6: Prefer Multiple Assignment Unpacking Over Indexing"
   ]
  },
  {
   "cell_type": "code",
   "execution_count": 1,
   "metadata": {},
   "outputs": [
    {
     "name": "stdout",
     "output_type": "stream",
     "text": [
      "Peanut butter\n",
      "Peanut butter\n"
     ]
    }
   ],
   "source": [
    "# instead of indexing a tuple...\n",
    "item = ('Peanut butter', 'Jelly')\n",
    "print(item[0])\n",
    "\n",
    "# unpack the items\n",
    "first, second = item\n",
    "\n",
    "print(first)\n",
    "\n",
    "# unpacking is less visual noise\n",
    "\n"
   ]
  },
  {
   "cell_type": "code",
   "execution_count": 27,
   "metadata": {},
   "outputs": [
    {
     "name": "stdout",
     "output_type": "stream",
     "text": [
      "[0, 1, 1, 2, 3, 3, 3, 4, 4, 8, 9]\n"
     ]
    }
   ],
   "source": [
    "# Unpacking syntax also allows you to swap values in a single line\n",
    "\n",
    "def bubble_sort(a):\n",
    "    for _ in range(len(a)):\n",
    "        for i in range(1, len(a)):\n",
    "            if a[i] < a[i-1]:\n",
    "                a[i-1], a[i] = a[i], a[i-1]\n",
    "                # print(f'{_:<3}{i:<3}{a}')\n",
    "\n",
    "names = [4,3,9,0,3,8,2,3,1,4,1]\n",
    "\n",
    "bubble_sort(names)\n",
    "\n",
    "print(names)"
   ]
  },
  {
   "cell_type": "code",
   "execution_count": 29,
   "metadata": {},
   "outputs": [
    {
     "name": "stdout",
     "output_type": "stream",
     "text": [
      "#1: muffin has 190 calories\n",
      "#2: donut has 240 calories\n",
      "#3: bacon has 350 calories\n"
     ]
    }
   ],
   "source": [
    "snacks = [('bacon',350), ('donut', 240), ('muffin', 190)]\n",
    "\n",
    "def nested_bubble_sort(a):\n",
    "    # sorting for the snacks var with nested tuple numbers\n",
    "    for _ in range(len(a)):\n",
    "        for i in range(1, len(a)):\n",
    "            if a[i][1] < a[i-1][1]:\n",
    "                a[i-1], a[i] = a[i], a[i-1]\n",
    "\n",
    "nested_bubble_sort(snacks)\n",
    "\n",
    "for rank, (name, calories) in enumerate(snacks, 1):\n",
    "    print(f'#{rank}: {name} has {calories} calories')"
   ]
  },
  {
   "cell_type": "markdown",
   "metadata": {},
   "source": [
    "### Item7: Prefer `enumerate` over `range`\n",
    "\n",
    "`enumerate` is a built-in lazy generator that wraps any iterator. It yields pairs of the loop index of the item in the iterator."
   ]
  },
  {
   "cell_type": "code",
   "execution_count": 30,
   "metadata": {},
   "outputs": [
    {
     "name": "stdout",
     "output_type": "stream",
     "text": [
      "(0, 'chocolate')\n",
      "(1, 'vanilla')\n"
     ]
    }
   ],
   "source": [
    "flavors = ['chocolate', 'vanilla','strawberry','grape']\n",
    "\n",
    "it = enumerate(flavors)\n",
    "\n",
    "# manually advancing the generator\n",
    "print(next(it))\n",
    "print(next(it))"
   ]
  },
  {
   "cell_type": "code",
   "execution_count": 32,
   "metadata": {},
   "outputs": [
    {
     "name": "stdout",
     "output_type": "stream",
     "text": [
      "1: chocolate\n",
      "2: vanilla\n",
      "3: strawberry\n",
      "4: grape\n"
     ]
    }
   ],
   "source": [
    "# second arg of enumerate lets you specify which number to begin the count. Default is zero index.\n",
    "for i, flavor in enumerate(flavors, 1):\n",
    "    print(f'{i}: {flavor}')"
   ]
  },
  {
   "cell_type": "markdown",
   "metadata": {},
   "source": [
    "### Item 8: Use `zip` to process iterators in parallel"
   ]
  },
  {
   "cell_type": "code",
   "execution_count": 33,
   "metadata": {},
   "outputs": [
    {
     "name": "stdout",
     "output_type": "stream",
     "text": [
      "longest name: Coraline, 8 letters\n"
     ]
    }
   ],
   "source": [
    "names = ['Coraline', 'Jethro', 'Bill', 'Melody', 'Snerf']\n",
    "counts = [len(n) for n in names]\n",
    "longest_name = None\n",
    "max_len = 0\n",
    "\n",
    "for name, count in zip(names, counts):\n",
    "    if count > max_len:\n",
    "        longest_name = name\n",
    "        max_len = count\n",
    "\n",
    "print(f'longest name: {longest_name}, {max_len} letters')\n",
    "\n"
   ]
  },
  {
   "cell_type": "code",
   "execution_count": 34,
   "metadata": {},
   "outputs": [
    {
     "name": "stdout",
     "output_type": "stream",
     "text": [
      "Coraline 8\n",
      "Jethro 6\n",
      "Bill 4\n",
      "Melody 6\n",
      "Snerf 5\n"
     ]
    }
   ],
   "source": [
    "\n",
    "names.append('Rosalind')\n",
    "\n",
    "for name, count in zip(names, counts):\n",
    "    print(name, count)"
   ]
  },
  {
   "cell_type": "markdown",
   "metadata": {},
   "source": [
    "Note above that zip truncates the output to the smallest list (as it doesn't print out anything for Rosalind). Zip works by outputting tuples until one of the generators stops generating. This works well if you know iterators are of the same length.\n",
    "\n",
    "As an alternative use the `zip_longest` function from the `itertools` pkg if the lists are of different lengths. Default fill value is `None` and can be defined by using `fillvalue` arg"
   ]
  },
  {
   "cell_type": "code",
   "execution_count": 36,
   "metadata": {},
   "outputs": [
    {
     "name": "stdout",
     "output_type": "stream",
     "text": [
      "Coraline 8\n",
      "Jethro 6\n",
      "Bill 4\n",
      "Melody 6\n",
      "Snerf 5\n",
      "Rosalind unknown\n"
     ]
    }
   ],
   "source": [
    "import itertools\n",
    "\n",
    "for name, count in itertools.zip_longest(names, counts, fillvalue=\"unknown\"):\n",
    "    print(name, count)"
   ]
  },
  {
   "cell_type": "markdown",
   "metadata": {},
   "source": [
    "### Item 9 Avoid `else` blocks after `for` and `while` loops"
   ]
  },
  {
   "cell_type": "markdown",
   "metadata": {},
   "source": [
    "### Item 10: Prevent Repitition with Assignment Expressions"
   ]
  },
  {
   "cell_type": "code",
   "execution_count": null,
   "metadata": {},
   "outputs": [],
   "source": []
  },
  {
   "cell_type": "code",
   "execution_count": null,
   "metadata": {},
   "outputs": [],
   "source": []
  },
  {
   "cell_type": "code",
   "execution_count": null,
   "metadata": {},
   "outputs": [],
   "source": []
  },
  {
   "cell_type": "markdown",
   "metadata": {},
   "source": [
    "## CH 3: Functions\n",
    "\n",
    "\n",
    "### Item 19: Never unpack more than 3 vars when functions return multiple values"
   ]
  },
  {
   "cell_type": "code",
   "execution_count": null,
   "metadata": {},
   "outputs": [],
   "source": []
  }
 ],
 "metadata": {
  "kernelspec": {
   "display_name": "python",
   "language": "python",
   "name": "python3"
  },
  "language_info": {
   "codemirror_mode": {
    "name": "ipython",
    "version": 3
   },
   "file_extension": ".py",
   "mimetype": "text/x-python",
   "name": "python",
   "nbconvert_exporter": "python",
   "pygments_lexer": "ipython3",
   "version": "3.8.2"
  },
  "orig_nbformat": 4
 },
 "nbformat": 4,
 "nbformat_minor": 2
}
