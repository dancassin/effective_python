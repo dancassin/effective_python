{
 "cells": [
  {
   "cell_type": "markdown",
   "metadata": {},
   "source": [
    "# Effective Python"
   ]
  },
  {
   "cell_type": "markdown",
   "metadata": {},
   "source": [
    "## CH 1: Pythonic Thinking\n",
    "\n",
    "### Item 6: Prefer Multiple Assignment Unpacking Over Indexing"
   ]
  },
  {
   "cell_type": "code",
   "execution_count": 1,
   "metadata": {},
   "outputs": [
    {
     "name": "stdout",
     "output_type": "stream",
     "text": [
      "Peanut butter\n",
      "Peanut butter\n"
     ]
    }
   ],
   "source": [
    "# instead of indexing a tuple...\n",
    "item = ('Peanut butter', 'Jelly')\n",
    "print(item[0])\n",
    "\n",
    "# unpack the items\n",
    "first, second = item\n",
    "\n",
    "print(first)\n",
    "\n",
    "# unpacking is less visual noise\n",
    "\n"
   ]
  },
  {
   "cell_type": "code",
   "execution_count": 2,
   "metadata": {},
   "outputs": [
    {
     "name": "stdout",
     "output_type": "stream",
     "text": [
      "[0, 1, 1, 2, 3, 3, 3, 4, 4, 8, 9]\n"
     ]
    }
   ],
   "source": [
    "# Unpacking syntax also allows you to swap values in a single line\n",
    "\n",
    "def bubble_sort(a):\n",
    "    for _ in range(len(a)):\n",
    "        for i in range(1, len(a)):\n",
    "            if a[i] < a[i-1]:\n",
    "                a[i-1], a[i] = a[i], a[i-1]\n",
    "                # print(f'{_:<3}{i:<3}{a}')\n",
    "\n",
    "names = [4,3,9,0,3,8,2,3,1,4,1]\n",
    "\n",
    "bubble_sort(names)\n",
    "\n",
    "print(names)"
   ]
  },
  {
   "cell_type": "code",
   "execution_count": 29,
   "metadata": {},
   "outputs": [
    {
     "name": "stdout",
     "output_type": "stream",
     "text": [
      "#1: muffin has 190 calories\n",
      "#2: donut has 240 calories\n",
      "#3: bacon has 350 calories\n"
     ]
    }
   ],
   "source": [
    "snacks = [('bacon',350), ('donut', 240), ('muffin', 190)]\n",
    "\n",
    "def nested_bubble_sort(a):\n",
    "    # sorting for the snacks var with nested tuple numbers\n",
    "    for _ in range(len(a)):\n",
    "        for i in range(1, len(a)):\n",
    "            if a[i][1] < a[i-1][1]:\n",
    "                a[i-1], a[i] = a[i], a[i-1]\n",
    "\n",
    "nested_bubble_sort(snacks)\n",
    "\n",
    "for rank, (name, calories) in enumerate(snacks, 1):\n",
    "    print(f'#{rank}: {name} has {calories} calories')"
   ]
  },
  {
   "cell_type": "markdown",
   "metadata": {},
   "source": [
    "### Item7: Prefer `enumerate` over `range`\n",
    "\n",
    "`enumerate` is a built-in lazy generator that wraps any iterator. It yields pairs of the loop index of the item in the iterator."
   ]
  },
  {
   "cell_type": "code",
   "execution_count": 30,
   "metadata": {},
   "outputs": [
    {
     "name": "stdout",
     "output_type": "stream",
     "text": [
      "(0, 'chocolate')\n",
      "(1, 'vanilla')\n"
     ]
    }
   ],
   "source": [
    "flavors = ['chocolate', 'vanilla','strawberry','grape']\n",
    "\n",
    "it = enumerate(flavors)\n",
    "\n",
    "# manually advancing the generator\n",
    "print(next(it))\n",
    "print(next(it))"
   ]
  },
  {
   "cell_type": "code",
   "execution_count": 32,
   "metadata": {},
   "outputs": [
    {
     "name": "stdout",
     "output_type": "stream",
     "text": [
      "1: chocolate\n",
      "2: vanilla\n",
      "3: strawberry\n",
      "4: grape\n"
     ]
    }
   ],
   "source": [
    "# second arg of enumerate lets you specify which number to begin the count. Default is zero index.\n",
    "for i, flavor in enumerate(flavors, 1):\n",
    "    print(f'{i}: {flavor}')"
   ]
  },
  {
   "cell_type": "markdown",
   "metadata": {},
   "source": [
    "### Item 8: Use `zip` to process iterators in parallel"
   ]
  },
  {
   "cell_type": "code",
   "execution_count": 33,
   "metadata": {},
   "outputs": [
    {
     "name": "stdout",
     "output_type": "stream",
     "text": [
      "longest name: Coraline, 8 letters\n"
     ]
    }
   ],
   "source": [
    "names = ['Coraline', 'Jethro', 'Bill', 'Melody', 'Snerf']\n",
    "counts = [len(n) for n in names]\n",
    "longest_name = None\n",
    "max_len = 0\n",
    "\n",
    "for name, count in zip(names, counts):\n",
    "    if count > max_len:\n",
    "        longest_name = name\n",
    "        max_len = count\n",
    "\n",
    "print(f'longest name: {longest_name}, {max_len} letters')\n",
    "\n"
   ]
  },
  {
   "cell_type": "code",
   "execution_count": 34,
   "metadata": {},
   "outputs": [
    {
     "name": "stdout",
     "output_type": "stream",
     "text": [
      "Coraline 8\n",
      "Jethro 6\n",
      "Bill 4\n",
      "Melody 6\n",
      "Snerf 5\n"
     ]
    }
   ],
   "source": [
    "\n",
    "names.append('Rosalind')\n",
    "\n",
    "for name, count in zip(names, counts):\n",
    "    print(name, count)"
   ]
  },
  {
   "cell_type": "markdown",
   "metadata": {},
   "source": [
    "Note above that zip truncates the output to the smallest list (as it doesn't print out anything for Rosalind). Zip works by outputting tuples until one of the generators stops generating. This works well if you know iterators are of the same length.\n",
    "\n",
    "As an alternative use the `zip_longest` function from the `itertools` pkg if the lists are of different lengths. Default fill value is `None` and can be defined by using `fillvalue` arg"
   ]
  },
  {
   "cell_type": "code",
   "execution_count": 36,
   "metadata": {},
   "outputs": [
    {
     "name": "stdout",
     "output_type": "stream",
     "text": [
      "Coraline 8\n",
      "Jethro 6\n",
      "Bill 4\n",
      "Melody 6\n",
      "Snerf 5\n",
      "Rosalind unknown\n"
     ]
    }
   ],
   "source": [
    "import itertools\n",
    "\n",
    "for name, count in itertools.zip_longest(names, counts, fillvalue=\"unknown\"):\n",
    "    print(name, count)"
   ]
  },
  {
   "cell_type": "markdown",
   "metadata": {},
   "source": [
    "### Item 9 Avoid `else` blocks after `for` and `while` loops"
   ]
  },
  {
   "cell_type": "markdown",
   "metadata": {},
   "source": [
    "### Item 10: Prevent Repitition with Assignment Expressions\n",
    "\n",
    "Also called the walrus operator"
   ]
  },
  {
   "cell_type": "code",
   "execution_count": 57,
   "metadata": {},
   "outputs": [],
   "source": [
    "fresh_fruit = {\n",
    "    'apple':3,\n",
    "    'banana':4,\n",
    "    'lemon':5\n",
    "}\n",
    "\n",
    "def make_lemonade(count):\n",
    "    print(f'Making {count} lemons into lemonade')\n",
    "    \n",
    "def make_cider(count):\n",
    "    print(f'Making cider with {count} apples')\n",
    "    \n",
    "def make_smoothies(count):\n",
    "    assert count > 0\n",
    "    print(f\"Making smoothies with {count} banana slices\")\n",
    "    \n",
    "def slice_bananas(count):\n",
    "    \n",
    "    print(f'Slicing {count} bananas')\n",
    "    return count * 4\n",
    "    \n",
    "def out_of_stock():\n",
    "    print('Out of stock!')\n",
    "    \n",
    "\n",
    "    \n",
    "\n",
    "class OutOfBananas(Exception):\n",
    "    pass"
   ]
  },
  {
   "cell_type": "code",
   "execution_count": 58,
   "metadata": {},
   "outputs": [
    {
     "name": "stdout",
     "output_type": "stream",
     "text": [
      "Making 5 lemons into lemonade\n",
      "Out of stock!\n"
     ]
    }
   ],
   "source": [
    "# old way\n",
    "# count = fresh_fruit.get('lemon', 0)\n",
    "# condenses the variable assignment to a combined assignment and expression, hence the name\n",
    "\n",
    "if count:= fresh_fruit.get('lemon',0): #walus operator condenses both lines\n",
    "    make_lemonade(count)\n",
    "else:\n",
    "    out_of_stock()\n",
    "    \n",
    "    \n",
    "if (count:= fresh_fruit.get('apple',0)) >=4:\n",
    "    make_cider(count)\n",
    "else:\n",
    "    out_of_stock()"
   ]
  },
  {
   "cell_type": "code",
   "execution_count": 59,
   "metadata": {},
   "outputs": [
    {
     "name": "stdout",
     "output_type": "stream",
     "text": [
      "Slicing 4 bananas\n",
      "Making smoothies with 16 banana slices\n"
     ]
    }
   ],
   "source": [
    "pieces = 0\n",
    "if (count:= fresh_fruit.get('banana',0)) >=2:\n",
    "    pieces = slice_bananas(count)\n",
    "    \n",
    "try:\n",
    "    smoothies = make_smoothies(pieces)\n",
    "except OutOfBananas:\n",
    "    out_of_stock()"
   ]
  },
  {
   "cell_type": "code",
   "execution_count": 53,
   "metadata": {},
   "outputs": [
    {
     "name": "stdout",
     "output_type": "stream",
     "text": [
      "Making 5 lemons into lemonade\n"
     ]
    }
   ],
   "source": [
    "# switch/case statement aren't expressly available, but the walrus helps\n",
    "\n",
    "if (count:= fresh_fruit.get('banana',0)) >= 2:\n",
    "    pieces = slice_bananas(count)\n",
    "    to_enjoy = make_smoothies(pieces)\n",
    "elif (count:= fresh_fruit.get('apple',0)) >=4:\n",
    "    to_enjoy = make_cider(count)\n",
    "elif (count:= fresh_fruit.get('lemon', 0)):\n",
    "    to_enjoy = make_lemonade(count)\n",
    "else:\n",
    "    to_enjoy='Nothing'"
   ]
  },
  {
   "cell_type": "code",
   "execution_count": 54,
   "metadata": {},
   "outputs": [
    {
     "name": "stdout",
     "output_type": "stream",
     "text": [
      "[('apple', 1), ('banana', 3), ('papaya', 5), ('lemon', 2), ('lime', 5), ('orange', 3), ('melon', 2)]\n"
     ]
    }
   ],
   "source": [
    "# do/while loops are also not available in python, but \n",
    "\n",
    "FRUIT_TO_PICK = [\n",
    "    {'apple': 1, 'banana': 3, 'papaya':5},\n",
    "    {'lemon': 2, 'lime': 5},\n",
    "    {'orange': 3, 'melon': 2},\n",
    "]\n",
    "\n",
    "\n",
    "def pick_fruit():\n",
    "    if FRUIT_TO_PICK:\n",
    "        return FRUIT_TO_PICK.pop(0)\n",
    "    else:\n",
    "        return []\n",
    "\n",
    "\n",
    "def make_juice(fruit, count):\n",
    "    return[(fruit, count)]\n",
    "\n",
    "bottles = []\n",
    "while next_fruit:= pick_fruit():\n",
    "    for fruit, count in next_fruit.items():\n",
    "        batch = make_juice(fruit, count)\n",
    "        bottles.extend(batch)\n",
    "\n",
    "print(bottles)\n",
    "    "
   ]
  },
  {
   "cell_type": "markdown",
   "metadata": {},
   "source": [
    "# CH 2: Lists and Dictionaries\n",
    "\n",
    "### Item 13: Prefer Catch-All Unpacking Over Slicing\n",
    "\n",
    "Python supports catch-all expressions via starred expressions `*`"
   ]
  },
  {
   "cell_type": "code",
   "execution_count": 61,
   "metadata": {},
   "outputs": [
    {
     "name": "stdout",
     "output_type": "stream",
     "text": [
      "20 19 [15, 9, 8, 7, 6, 4, 1, 0]\n",
      "20 [19, 15, 9, 8, 7, 6, 4, 1] 0\n"
     ]
    }
   ],
   "source": [
    "car_ages = [0, 9, 4, 8, 7, 20, 19, 1, 6, 15]\n",
    "car_ages_descending = sorted(car_ages, reverse=True)\n",
    "\n",
    "oldest, second_oldest, *others = car_ages_descending #this syntax allows one part of the unpacking to receive the rest\n",
    "print(oldest, second_oldest, others)\n",
    "\n",
    "# code is shorter, easier to read, and does not rely on indexing which is brittle\n",
    "\n",
    "# starred expression can appear in any position\n",
    "oldest, *middle, youngest = car_ages_descending #this syntax allows one part of the unpacking to receive the rest\n",
    "print(oldest, middle, youngest)"
   ]
  },
  {
   "cell_type": "code",
   "execution_count": 64,
   "metadata": {},
   "outputs": [
    {
     "name": "stdout",
     "output_type": "stream",
     "text": [
      "csv header:  ('Date', 'Make', 'Model', 'Year', 'Price')\n",
      "rowcount:  200\n"
     ]
    }
   ],
   "source": [
    "def generate_csv():\n",
    "    yield ('Date', 'Make' , 'Model', 'Year', 'Price')\n",
    "    for i in range(100):\n",
    "        yield ('2019-03-25', 'Honda', 'Fit' , '2010', '$3400')\n",
    "        yield ('2019-03-26', 'Ford', 'F150' , '2008', '$2400')\n",
    "\n",
    "csv = generate_csv()\n",
    "\n",
    "header, *rows = csv\n",
    "\n",
    "print('csv header: ', header)\n",
    "print('rowcount: ', len(rows))"
   ]
  },
  {
   "cell_type": "markdown",
   "metadata": {},
   "source": [
    "### Item 14: Sort by Complex Criteria Using the `key` Parameter\n",
    "\n",
    "`sort()` defaults to ordering a lists contents by natural ascending order, but may not always work the way you want when you have a custom class"
   ]
  },
  {
   "cell_type": "code",
   "execution_count": 1,
   "metadata": {},
   "outputs": [],
   "source": [
    "class Tool:\n",
    "    def __init__(self, name, weight):\n",
    "        self.name = name\n",
    "        self.weight = weight\n",
    "    def __repr__(self): # Item 75: repr method used for debugging\n",
    "        return f'Tool({self.name!r}, {self.weight})'\n",
    "    \n",
    "tools = [\n",
    "    Tool('level', 3.5),\n",
    "    Tool('hammer',1.25),\n",
    "    Tool('screwdriver', 0.5),\n",
    "    Tool('chisel', 0.25)\n",
    "]"
   ]
  },
  {
   "cell_type": "code",
   "execution_count": 2,
   "metadata": {},
   "outputs": [
    {
     "ename": "TypeError",
     "evalue": "'<' not supported between instances of 'Tool' and 'Tool'",
     "output_type": "error",
     "traceback": [
      "\u001b[1;31m---------------------------------------------------------------------------\u001b[0m",
      "\u001b[1;31mTypeError\u001b[0m                                 Traceback (most recent call last)",
      "\u001b[1;32m<ipython-input-2-934c749d7824>\u001b[0m in \u001b[0;36m<module>\u001b[1;34m\u001b[0m\n\u001b[1;32m----> 1\u001b[1;33m \u001b[0mtools\u001b[0m\u001b[1;33m.\u001b[0m\u001b[0msort\u001b[0m\u001b[1;33m(\u001b[0m\u001b[1;33m)\u001b[0m\u001b[1;33m\u001b[0m\u001b[1;33m\u001b[0m\u001b[0m\n\u001b[0m",
      "\u001b[1;31mTypeError\u001b[0m: '<' not supported between instances of 'Tool' and 'Tool'"
     ]
    }
   ],
   "source": [
    "tools.sort()"
   ]
  },
  {
   "cell_type": "code",
   "execution_count": 3,
   "metadata": {},
   "outputs": [
    {
     "name": "stdout",
     "output_type": "stream",
     "text": [
      "Unsorted: [Tool('level', 3.5), Tool('hammer', 1.25), Tool('screwdriver', 0.5), Tool('chisel', 0.25)]\n",
      "Sorted: [Tool('chisel', 0.25), Tool('hammer', 1.25), Tool('level', 3.5), Tool('screwdriver', 0.5)]\n"
     ]
    }
   ],
   "source": [
    "print('Unsorted:', repr(tools))\n",
    "tools.sort(key=lambda x: x.name)\n",
    "print('Sorted:', tools)"
   ]
  },
  {
   "cell_type": "code",
   "execution_count": 4,
   "metadata": {},
   "outputs": [
    {
     "name": "stdout",
     "output_type": "stream",
     "text": [
      "By wieght: [Tool('chisel', 0.25), Tool('screwdriver', 0.5), Tool('hammer', 1.25), Tool('level', 3.5)]\n"
     ]
    }
   ],
   "source": [
    "tools.sort(key=lambda x: x.weight)\n",
    "print('By wieght:', tools)"
   ]
  },
  {
   "cell_type": "code",
   "execution_count": 7,
   "metadata": {},
   "outputs": [
    {
     "name": "stdout",
     "output_type": "stream",
     "text": [
      "[Tool('drill', 4), Tool('sander', 4), Tool('circular saw', 5), Tool('jackhammer', 40)]\n"
     ]
    }
   ],
   "source": [
    "# sorting by multiple criteria? Use tuple\n",
    "\n",
    "power_tools = [\n",
    "    Tool('drill', 4),\n",
    "    Tool('circular saw', 5),\n",
    "    Tool('jackhammer', 40),\n",
    "    Tool('sander', 4),\n",
    "]\n",
    "\n",
    "saw = (5, 'circular saw')\n",
    "jackhammer = (40, 'jackhammer')\n",
    "assert not (jackhammer < saw)\n",
    "\n",
    "drill = (4, 'drill')\n",
    "sander = (4, 'sander')\n",
    "assert drill[0] == sander[0]  # Same weight\n",
    "assert drill[1] < sander[1]   # Alphabetically less\n",
    "assert drill < sander         # Thus, drill comes first\n",
    "\n",
    "power_tools.sort(key= lambda x: (x.weight, x.name))\n",
    "print(power_tools)"
   ]
  },
  {
   "cell_type": "markdown",
   "metadata": {},
   "source": []
  },
  {
   "cell_type": "markdown",
   "metadata": {},
   "source": [
    "## CH 3: Functions\n",
    "\n",
    "\n",
    "### Item 19: Never unpack more than 3 vars when functions return multiple values\n",
    "\n",
    "\n",
    "Reasons: super easy to mix up the variables, line becomes too long and awkward with PEP8\n",
    "\n",
    "Use: Catch-all starred expressions"
   ]
  },
  {
   "cell_type": "code",
   "execution_count": 1,
   "metadata": {},
   "outputs": [
    {
     "name": "stdout",
     "output_type": "stream",
     "text": [
      "first ['middle1', 'middle2', 'middle3'] last\n"
     ]
    }
   ],
   "source": [
    "def multi_return():\n",
    "    return 'first', 'middle1', 'middle2', 'middle3', 'last'\n",
    "\n",
    "first, *middle, last = multi_return()\n",
    "\n",
    "print(first, middle, last)"
   ]
  },
  {
   "cell_type": "markdown",
   "metadata": {},
   "source": [
    "### Item 22: Reduce Visual Noise with Variable Positional Arguments\n",
    "\n",
    "`*args` in a function will allow you to add multiple items in one arg"
   ]
  },
  {
   "cell_type": "code",
   "execution_count": 2,
   "metadata": {},
   "outputs": [
    {
     "name": "stdout",
     "output_type": "stream",
     "text": [
      "My numbers are: 1, 2, 3\n",
      "My numbers are: 4, 6\n",
      "Hello\n"
     ]
    }
   ],
   "source": [
    "def log(message, *values):\n",
    "    if not values:\n",
    "        print(message)\n",
    "    else:\n",
    "        values_str = ', '.join(str(x) for x in values)\n",
    "        print(f'{message}: {values_str}')\n",
    "\n",
    "log('My numbers are', 1, 2 ,3)\n",
    "log('My numbers are', 4, 6)\n",
    "log('Hello')"
   ]
  },
  {
   "cell_type": "markdown",
   "metadata": {},
   "source": [
    "### Item 23: Provide Optional Behavior with `kwargs`\n",
    "\n",
    "Key word arguments (kwargs) can be passed in a function using `**` before a dict object like so:"
   ]
  },
  {
   "cell_type": "code",
   "execution_count": 4,
   "metadata": {},
   "outputs": [
    {
     "data": {
      "text/plain": [
       "1.0"
      ]
     },
     "execution_count": 4,
     "metadata": {},
     "output_type": "execute_result"
    }
   ],
   "source": [
    "def remainder(numerator, denominator):\n",
    "    return numerator/denominator\n",
    "\n",
    "my_kwargs = {'numerator':6, 'denominator':6}\n",
    "\n",
    "remainder(**my_kwargs)"
   ]
  },
  {
   "cell_type": "code",
   "execution_count": 6,
   "metadata": {},
   "outputs": [
    {
     "data": {
      "text/plain": [
       "1.0"
      ]
     },
     "execution_count": 6,
     "metadata": {},
     "output_type": "execute_result"
    }
   ],
   "source": [
    "# You can also use the ** operator multiple times if you know the dicts don't have repeated keys\n",
    "\n",
    "my_kwargs = {'numerator':6}\n",
    "other_kwargs = {'denominator':6}\n",
    "\n",
    "remainder(**my_kwargs, **other_kwargs)"
   ]
  },
  {
   "cell_type": "code",
   "execution_count": 7,
   "metadata": {},
   "outputs": [
    {
     "name": "stdout",
     "output_type": "stream",
     "text": [
      "alpha = 1.5\n",
      "beta = 2.4\n",
      "gamma = 73\n"
     ]
    }
   ],
   "source": [
    "# Your function can also accept kwargs from the outset\n",
    "\n",
    "def print_params(**kwargs):\n",
    "    for key, value in kwargs.items():\n",
    "        print(f'{key} = {value}')\n",
    "\n",
    "print_params(alpha=1.5, beta=2.4, gamma=73)"
   ]
  },
  {
   "cell_type": "markdown",
   "metadata": {},
   "source": [
    "### Item 24: User `None` and Docstrings to Specify Dynamic Default Args\n",
    "\n",
    "If you are creating a function that must dynamically update, you cannot do that from the function's args"
   ]
  },
  {
   "cell_type": "code",
   "execution_count": 11,
   "metadata": {},
   "outputs": [
    {
     "name": "stdout",
     "output_type": "stream",
     "text": [
      "now 2023-09-29 15:35:11.448852\n",
      "not later 2023-09-29 15:35:11.448852\n"
     ]
    }
   ],
   "source": [
    "from datetime import datetime\n",
    "from time import sleep\n",
    "\n",
    "def print_datetime(message, when=datetime.now()):\n",
    "    print(message, when)\n",
    "\n",
    "print_datetime(message='now')\n",
    "sleep(2)\n",
    "print_datetime(message='not later')"
   ]
  },
  {
   "cell_type": "markdown",
   "metadata": {},
   "source": [
    "The issue above is that when the function is first initialized when the python file begins, it reads in the datetime and calls that datetime for every future call. It's not dynamic.\n",
    "\n",
    "In order to make it dynamic, we must make the `when` arg `None` and specify how it works in docstrngs\n",
    "\n",
    "This should also be done with items that produce `dict`"
   ]
  },
  {
   "cell_type": "code",
   "execution_count": 15,
   "metadata": {},
   "outputs": [
    {
     "name": "stdout",
     "output_type": "stream",
     "text": [
      "2023-09-29 16:20:59.186356 - now\n"
     ]
    },
    {
     "name": "stdout",
     "output_type": "stream",
     "text": [
      "2023-09-29 16:21:01.188372 - later\n"
     ]
    }
   ],
   "source": [
    "def print_datetime(message, when=None):\n",
    "    '''Log message with a timestamp\n",
    "\n",
    "    Args:\n",
    "        message: string value to print\n",
    "        when: timestamp of message defaults to current time\n",
    "    '''\n",
    "\n",
    "    if when is None:\n",
    "        when = datetime.now()\n",
    "    print(f'{when} - {message}')\n",
    "\n",
    "\n",
    "print_datetime(message='now')\n",
    "sleep(2)\n",
    "print_datetime(message='later')"
   ]
  },
  {
   "cell_type": "markdown",
   "metadata": {},
   "source": [
    "### Item 26: Define Function Decorators wiht `functools.wraps`\n",
    "\n",
    "A decorator has the ability to run adidtional coe before and after each call to a funciton it wraps."
   ]
  },
  {
   "cell_type": "code",
   "execution_count": 11,
   "metadata": {},
   "outputs": [
    {
     "name": "stdout",
     "output_type": "stream",
     "text": [
      "fibonacci((0,), {}) -> 0\n",
      "fibonacci((1,), {}) -> 1\n",
      "fibonacci((2,), {}) -> 1\n",
      "fibonacci((1,), {}) -> 1\n",
      "fibonacci((0,), {}) -> 0\n",
      "fibonacci((1,), {}) -> 1\n",
      "fibonacci((2,), {}) -> 1\n",
      "fibonacci((3,), {}) -> 2\n",
      "fibonacci((4,), {}) -> 3\n",
      "fibonacci((1,), {}) -> 1\n",
      "fibonacci((0,), {}) -> 0\n",
      "fibonacci((1,), {}) -> 1\n",
      "fibonacci((2,), {}) -> 1\n",
      "fibonacci((3,), {}) -> 2\n",
      "fibonacci((0,), {}) -> 0\n",
      "fibonacci((1,), {}) -> 1\n",
      "fibonacci((2,), {}) -> 1\n",
      "fibonacci((1,), {}) -> 1\n",
      "fibonacci((0,), {}) -> 0\n",
      "fibonacci((1,), {}) -> 1\n",
      "fibonacci((2,), {}) -> 1\n",
      "fibonacci((3,), {}) -> 2\n",
      "fibonacci((4,), {}) -> 3\n",
      "fibonacci((5,), {}) -> 5\n",
      "fibonacci((6,), {}) -> 8\n"
     ]
    },
    {
     "data": {
      "text/plain": [
       "8"
      ]
     },
     "execution_count": 11,
     "metadata": {},
     "output_type": "execute_result"
    }
   ],
   "source": [
    "from functools import wraps # use this fcn when creating decorators to avoid issues\n",
    "\n",
    "def trace(func):\n",
    "    @wraps(func)\n",
    "    def wrapper(*args, **kwargs):\n",
    "        result = func(*args, **kwargs)\n",
    "        print(f'{func.__name__}({args!r}, {kwargs!r}) '\n",
    "              f'-> {result!r}'\n",
    "              )\n",
    "        return result\n",
    "    return wrapper\n",
    "\n",
    "@trace\n",
    "def fibonacci(n):\n",
    "    '''Return the nth Fib #'''\n",
    "    if n in (0,1):\n",
    "        return n\n",
    "    return (fibonacci(n - 2) + fibonacci(n - 1))\n",
    "\n",
    "fibonacci(6)"
   ]
  },
  {
   "cell_type": "code",
   "execution_count": 12,
   "metadata": {},
   "outputs": [
    {
     "name": "stdout",
     "output_type": "stream",
     "text": [
      "Help on function fibonacci in module __main__:\n",
      "\n",
      "fibonacci(n)\n",
      "    Return the nth Fib #\n",
      "\n"
     ]
    }
   ],
   "source": [
    "help(fibonacci)"
   ]
  },
  {
   "cell_type": "markdown",
   "metadata": {},
   "source": [
    "# CH 4: Comprehensions and Generators\n",
    "\n",
    "\n",
    "### Item 29: Control Subexpression in Comprehensions\n"
   ]
  },
  {
   "cell_type": "code",
   "execution_count": 19,
   "metadata": {},
   "outputs": [
    {
     "name": "stdout",
     "output_type": "stream",
     "text": [
      "{'screws': 4, 'wingnuts': 1, 'nails': 15}\n"
     ]
    }
   ],
   "source": [
    "stock = {\n",
    "    'nails': 125,\n",
    "    'screws': 35,\n",
    "    'wingnuts': 8,\n",
    "    'washers': 24,\n",
    "}\n",
    "\n",
    "order = ['screws', 'wingnuts', 'nails']\n",
    "\n",
    "def get_batches(count, size):\n",
    "    return count // size\n",
    "\n",
    "\n",
    "result = {name: batches for name in order if (batches := get_batches(stock.get(name,0),8))}\n",
    "\n",
    "print(result)"
   ]
  },
  {
   "cell_type": "markdown",
   "metadata": {},
   "source": [
    "### Item 30: Consider Generators Instead of Returning Lists"
   ]
  },
  {
   "cell_type": "code",
   "execution_count": 29,
   "metadata": {},
   "outputs": [
    {
     "name": "stdout",
     "output_type": "stream",
     "text": [
      "[1, 6, 12, 16, 22, 28]\n",
      "1\n",
      "6\n",
      "12\n",
      "16\n",
      "[1, 6, 12, 16, 22, 28]\n"
     ]
    }
   ],
   "source": [
    "# Goal: find the indes of every word in a string:\n",
    "\n",
    "address = ' Four score and seven years ago...'\n",
    "\n",
    "# Typical Solution\n",
    "def index_words(text):\n",
    "    result = []\n",
    "\n",
    "    for index, letter in enumerate(text):\n",
    "        if (index == 0) and (letter != ' '):\n",
    "            result.append(index)\n",
    "        elif letter == ' ':\n",
    "            result.append(index+1)\n",
    "    return result\n",
    "\n",
    "result = index_words(address)\n",
    "print(result)\n",
    "\n",
    "\n",
    "# Solution with a generator\n",
    "def index_words_iter(text):\n",
    "    for index, letter in enumerate(text):\n",
    "        if (index == 0) and (letter != ' '):\n",
    "            yield 0\n",
    "        elif letter == ' ':\n",
    "            yield index+1\n",
    "\n",
    "it = index_words_iter(address)\n",
    "print(next(it))\n",
    "print(next(it))\n",
    "print(next(it))\n",
    "print(next(it))\n",
    "\n",
    "result = list(index_words_iter(address))\n",
    "print(result)"
   ]
  },
  {
   "cell_type": "markdown",
   "metadata": {},
   "source": [
    "### Item 31: Be Defensive When Iterating Over Arguments"
   ]
  },
  {
   "cell_type": "code",
   "execution_count": 2,
   "metadata": {},
   "outputs": [
    {
     "name": "stdout",
     "output_type": "stream",
     "text": [
      "[11.538461538461538, 26.923076923076923, 61.53846153846154]\n"
     ]
    }
   ],
   "source": [
    "# Goal iterate through a list of cities to get tourism visits and normalize their values\n",
    "# Most times if a fcn takes in a list it will need to iterate multiple times over that list\n",
    "# Example:\n",
    "def normalize(numbers):\n",
    "    total = sum(numbers) # first time\n",
    "    result = []\n",
    "    for value in numbers: # second time\n",
    "        percent = 100 * value / total\n",
    "        result.append(percent)\n",
    "    return result\n",
    "\n",
    "visits = [15, 35, 80]\n",
    "\n",
    "percentages = normalize(visits)\n",
    "print(percentages)"
   ]
  },
  {
   "cell_type": "code",
   "execution_count": 3,
   "metadata": {},
   "outputs": [
    {
     "name": "stdout",
     "output_type": "stream",
     "text": [
      "[]\n"
     ]
    }
   ],
   "source": [
    "# When dealing with a file of unkown size, the way we would scale this up is to use a generator\n",
    "\n",
    "def read_visits(data_path):\n",
    "    with open(data_path) as f:\n",
    "        for line in f:\n",
    "            yield int(line)\n",
    "\n",
    "\n",
    "path = 'my_numbers.txt'\n",
    "\n",
    "it = read_visits(path)\n",
    "percentages = normalize(it)\n",
    "print(percentages)\n",
    "\n",
    "# However this returns an empty list because once a generator is finished generating, it won't run again\n",
    "# So once it runs for the sum() it doesn't run for the for loop\n",
    "\n"
   ]
  },
  {
   "cell_type": "code",
   "execution_count": 5,
   "metadata": {},
   "outputs": [
    {
     "name": "stdout",
     "output_type": "stream",
     "text": [
      "[0.9036144578313253, 5.240963855421687, 3.9156626506024095, 2.1686746987951806, 1.5060240963855422, 40.8433734939759, 1.5060240963855422, 0.6626506024096386, 1.3855421686746987, 2.0481927710843375, 2.710843373493976, 3.3132530120481927, 9.036144578313253, 7.289156626506024, 2.5903614457831323, 0.3614457831325301, 4.578313253012048, 4.518072289156627, 5.421686746987952]\n"
     ]
    }
   ],
   "source": [
    "# To solve this, you could save the generated items in a list, but that would defeat the purpose Instead...\n",
    "# Create a new container class that implements the iterator protocol .__iter__()\n",
    "\n",
    "class ReadVisits:\n",
    "    def __init__(self, data_path):\n",
    "        self.data_path = data_path\n",
    "\n",
    "    def __iter__(self):\n",
    "        with open(self.data_path) as f:\n",
    "            for line in f:\n",
    "                yield int(line)\n",
    "\n",
    "visits = ReadVisits(path)\n",
    "percentages = normalize(visits)\n",
    "print(percentages)\n",
    "\n",
    "assert sum(percentages) == 100.0"
   ]
  },
  {
   "cell_type": "markdown",
   "metadata": {},
   "source": [
    "### Item 32: Consider Generator Expressions for Large List Comprehensions\n",
    "\n",
    "List comprehensions are fine for small inputs, but for very large inputs, they can eat up all your memory, this is where generator comprehenions come in"
   ]
  },
  {
   "cell_type": "code",
   "execution_count": 10,
   "metadata": {},
   "outputs": [
    {
     "data": {
      "text/plain": [
       "[15, 87, 65, 36, 25, 678, 25, 11, 23, 34, 45, 55, 150, 121, 43, 6, 76, 75, 90]"
      ]
     },
     "execution_count": 10,
     "metadata": {},
     "output_type": "execute_result"
    }
   ],
   "source": [
    "value = [int(x) for x in open(path)]\n",
    "value"
   ]
  },
  {
   "cell_type": "code",
   "execution_count": 12,
   "metadata": {},
   "outputs": [
    {
     "name": "stdout",
     "output_type": "stream",
     "text": [
      "<generator object <genexpr> at 0x7fca16de1eb0>\n",
      "15\n",
      "87\n"
     ]
    }
   ],
   "source": [
    "# to make the above a generator comprehension, turn the square brackets into parenthesis\n",
    "\n",
    "value = (int(x) for x in open(path))\n",
    "\n",
    "print(value)\n",
    "print(next(value))\n",
    "print(next(value))"
   ]
  },
  {
   "cell_type": "code",
   "execution_count": 13,
   "metadata": {},
   "outputs": [
    {
     "name": "stdout",
     "output_type": "stream",
     "text": [
      "(65, 8.06225774829855)\n",
      "(36, 6.0)\n"
     ]
    }
   ],
   "source": [
    "# gnerator expressions can also be added together\n",
    "\n",
    "roots = ((x, x**0.5) for x in value)\n",
    "\n",
    "print(next(roots))\n",
    "print(next(roots))\n",
    "\n",
    "# notice that the second generator has advanced the original"
   ]
  },
  {
   "cell_type": "markdown",
   "metadata": {},
   "source": [
    "### Item 33 Compose Multiple Generators with `yield from`\n",
    "\n",
    "using generators on top of generators. `yield from` handles the otherwise necessary nested for loop and yield expression boilerplate"
   ]
  },
  {
   "cell_type": "code",
   "execution_count": 4,
   "metadata": {},
   "outputs": [],
   "source": [
    "def move(period, speed):\n",
    "    for _ in range(period):\n",
    "        yield speed\n",
    "\n",
    "def pause(delay):\n",
    "    for _ in range(delay):\n",
    "        yield 0"
   ]
  },
  {
   "cell_type": "code",
   "execution_count": 6,
   "metadata": {},
   "outputs": [
    {
     "name": "stdout",
     "output_type": "stream",
     "text": [
      "Delta: 5.0\n",
      "Delta: 5.0\n",
      "Delta: 5.0\n",
      "Delta: 5.0\n",
      "Delta: 0.0\n",
      "Delta: 0.0\n",
      "Delta: 0.0\n",
      "Delta: 3.0\n",
      "Delta: 3.0\n"
     ]
    }
   ],
   "source": [
    "\n",
    "def animate_composed():\n",
    "    yield from move(4, 5.-0)\n",
    "    yield from pause(3)\n",
    "    yield from move(2,3.0)\n",
    "    \n",
    "\n",
    "def render(delta):\n",
    "    print(f'Delta: {delta:.1f}')\n",
    "\n",
    "def run(func):\n",
    "    for delta in func():\n",
    "        render(delta)\n",
    "\n",
    "run(animate_composed)"
   ]
  },
  {
   "cell_type": "markdown",
   "metadata": {},
   "source": [
    "### Item 36: Consider `itertools` for WOrking with Iterators and Generators\n",
    "\n",
    "#### Linking Iterators Together\n",
    "\n",
    "`chain` combines multiple iterators sequentially"
   ]
  },
  {
   "cell_type": "code",
   "execution_count": 8,
   "metadata": {},
   "outputs": [
    {
     "name": "stdout",
     "output_type": "stream",
     "text": [
      "[1, 2, 3, 4, 5, 6]\n"
     ]
    }
   ],
   "source": [
    "import itertools\n",
    "\n",
    "it = itertools.chain([1,2,3], [4,5,6])\n",
    "print(list(it))"
   ]
  },
  {
   "cell_type": "markdown",
   "metadata": {},
   "source": [
    "`repeat` outputs a single value forever, or use the second param to specify a max number of times"
   ]
  },
  {
   "cell_type": "code",
   "execution_count": 9,
   "metadata": {},
   "outputs": [
    {
     "name": "stdout",
     "output_type": "stream",
     "text": [
      "['hello', 'hello', 'hello']\n"
     ]
    }
   ],
   "source": [
    "it = itertools.repeat('hello', 3)\n",
    "print(list(it))"
   ]
  },
  {
   "cell_type": "markdown",
   "metadata": {},
   "source": [
    "`cycle` repeats an iterator's items forever"
   ]
  },
  {
   "cell_type": "code",
   "execution_count": 12,
   "metadata": {},
   "outputs": [
    {
     "name": "stdout",
     "output_type": "stream",
     "text": [
      "[1, 2, 3, 1, 2, 3, 1, 2, 3, 1]\n",
      "10\n"
     ]
    }
   ],
   "source": [
    "it = itertools.cycle([1,2,3])\n",
    "result = [next(it) for _ in range(10)]\n",
    "\n",
    "print(result)\n",
    "print(len(result))"
   ]
  },
  {
   "cell_type": "markdown",
   "metadata": {},
   "source": [
    "`tee` splits a single iterator in to the number of parallel iterators specified by the second param. (Memory can be an issue here since buffering is requied for the pending items)"
   ]
  },
  {
   "cell_type": "code",
   "execution_count": 17,
   "metadata": {},
   "outputs": [
    {
     "name": "stdout",
     "output_type": "stream",
     "text": [
      "['first', 'second', 'third']\n",
      "['first', 'second', 'third']\n",
      "['first', 'second', 'third']\n",
      "['first', 'second', 'third']\n"
     ]
    }
   ],
   "source": [
    "it1, it2, it3, it4 = itertools.tee(['first', 'second', 'third'], 4)\n",
    "\n",
    "print(list(it1))\n",
    "print(list(it2))\n",
    "print(list(it3))\n",
    "print(list(it4))"
   ]
  },
  {
   "cell_type": "markdown",
   "metadata": {},
   "source": [
    "`zip_longest` - variant of built-in `zip` function - returns a placeholder val when an iterator is exhausted (iterators of different lengths)"
   ]
  },
  {
   "cell_type": "code",
   "execution_count": 23,
   "metadata": {},
   "outputs": [
    {
     "name": "stdout",
     "output_type": "stream",
     "text": [
      "zip:         [('one', 1), ('two', 2)]\n",
      "zip_longest: [('one', 1), ('two', 2), ('three', None)]\n"
     ]
    }
   ],
   "source": [
    "keys = ['one', 'two', 'three']\n",
    "values = [1,2]\n",
    "\n",
    "normal = list(zip(keys, values))\n",
    "print('zip:        ', normal)\n",
    "\n",
    "it = list(itertools.zip_longest(keys, values, fillvalue=None))\n",
    "longest = list(it)\n",
    "print('zip_longest:', longest)"
   ]
  },
  {
   "cell_type": "markdown",
   "metadata": {},
   "source": [
    "#### Filtering Items from an Iterator"
   ]
  },
  {
   "cell_type": "code",
   "execution_count": 31,
   "metadata": {},
   "outputs": [
    {
     "name": "stdout",
     "output_type": "stream",
     "text": [
      "[(1, 2, 3, 4), (1, 2, 3, 5), (1, 2, 4, 5), (1, 3, 4, 5), (2, 3, 4, 5)]\n"
     ]
    }
   ],
   "source": [
    "it = itertools.combinations([1,2,3,4,5], 4)\n",
    "\n",
    "print(list(it))"
   ]
  },
  {
   "cell_type": "markdown",
   "metadata": {},
   "source": [
    "# CH 5: Classes and Interfaces\n",
    "\n",
    "### Item 37 Compose Classes Instead of Nesting Built-in Types\n",
    "\n",
    "In a situation where you have a gradebook where you are tracking student, subject, grade, and weight of each grade, eventually a reliance on dictionaries will become hard to read, mutate and keep track of. Here are some solutions regarding multple classes and inheritance"
   ]
  },
  {
   "cell_type": "code",
   "execution_count": 33,
   "metadata": {},
   "outputs": [],
   "source": [
    "# Using namedtuple to create tiny immutable data structures\n",
    "from collections import namedtuple, defaultdict\n",
    "\n",
    "Grade = namedtuple('Grade', ('score', 'weight'))\n",
    "\n",
    "# class to represent a single subject that contains a set of Grades/weights\n",
    "class Subject:\n",
    "    def __init__(self):\n",
    "        self._grades = []\n",
    "\n",
    "    def report_grade(self,score, weight):\n",
    "        self._grades.append(Grade(score, weight))\n",
    "\n",
    "    def average_grade(self):\n",
    "        total, total_weight  = 0,0\n",
    "        for grade in self._grades:\n",
    "            total += grade.score * grade.weight\n",
    "            total_weight += grade.weight\n",
    "        return total / total_weight\n",
    "    \n",
    "\n",
    "# Class to represent a set of subject for each student\n",
    "class Student:\n",
    "    def __init__(self):\n",
    "        self._subjects = defaultdict(Subject)\n",
    "    \n",
    "    def get_subject(self, name):\n",
    "        return self._subjects[name]\n",
    "    \n",
    "    def average_grade(self):\n",
    "        total, count = 0,0\n",
    "        for subject in self._subjects.values():\n",
    "            total += subject.average_grade()\n",
    "            count += 1\n",
    "        return total / count\n",
    "\n",
    "# container class for all of the students keyed by name\n",
    "class Gradebook:\n",
    "    def __init__(self):\n",
    "        self._students = defaultdict(Student)\n",
    "    \n",
    "    def get_student(self, name):\n",
    "        return self._students[name]"
   ]
  },
  {
   "cell_type": "code",
   "execution_count": 35,
   "metadata": {},
   "outputs": [
    {
     "name": "stdout",
     "output_type": "stream",
     "text": [
      "80.25\n"
     ]
    }
   ],
   "source": [
    "book = Gradebook()\n",
    "\n",
    "albert = book.get_student('Albert Einstein')\n",
    "math = albert.get_subject(\"Math\")\n",
    "math.report_grade(75, 0.05)\n",
    "math.report_grade(65, 0.15)\n",
    "math.report_grade(70, 0.8)\n",
    "gym = albert.get_subject('Gym')\n",
    "gym.report_grade(100, 0.4)\n",
    "gym.report_grade(85, 0.6)\n",
    "print(albert.average_grade())"
   ]
  },
  {
   "cell_type": "markdown",
   "metadata": {},
   "source": [
    "### Item 38: Accept Functions Instead of Classes for Simple Interfaces"
   ]
  },
  {
   "cell_type": "code",
   "execution_count": null,
   "metadata": {},
   "outputs": [],
   "source": []
  }
 ],
 "metadata": {
  "kernelspec": {
   "display_name": "python",
   "language": "python",
   "name": "python3"
  },
  "language_info": {
   "codemirror_mode": {
    "name": "ipython",
    "version": 3
   },
   "file_extension": ".py",
   "mimetype": "text/x-python",
   "name": "python",
   "nbconvert_exporter": "python",
   "pygments_lexer": "ipython3",
   "version": "3.8.2"
  },
  "orig_nbformat": 4
 },
 "nbformat": 4,
 "nbformat_minor": 2
}
