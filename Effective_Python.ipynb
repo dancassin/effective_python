{
 "cells": [
  {
   "cell_type": "markdown",
   "metadata": {},
   "source": [
    "# Effective Python"
   ]
  },
  {
   "cell_type": "markdown",
   "metadata": {},
   "source": [
    "## CH 1: Pythonic Thinking\n",
    "\n",
    "### Item 6: Prefer Multiple Assignment Unpacking Over Indexing"
   ]
  },
  {
   "cell_type": "code",
   "execution_count": 1,
   "metadata": {},
   "outputs": [
    {
     "name": "stdout",
     "output_type": "stream",
     "text": [
      "Peanut butter\n",
      "Peanut butter\n"
     ]
    }
   ],
   "source": [
    "# instead of indexing a tuple...\n",
    "item = ('Peanut butter', 'Jelly')\n",
    "print(item[0])\n",
    "\n",
    "# unpack the items\n",
    "first, second = item\n",
    "\n",
    "print(first)\n",
    "\n",
    "# unpacking is less visual noise\n",
    "\n"
   ]
  },
  {
   "cell_type": "code",
   "execution_count": 27,
   "metadata": {},
   "outputs": [
    {
     "name": "stdout",
     "output_type": "stream",
     "text": [
      "[0, 1, 1, 2, 3, 3, 3, 4, 4, 8, 9]\n"
     ]
    }
   ],
   "source": [
    "# Unpacking syntax also allows you to swap values in a single line\n",
    "\n",
    "def bubble_sort(a):\n",
    "    for _ in range(len(a)):\n",
    "        for i in range(1, len(a)):\n",
    "            if a[i] < a[i-1]:\n",
    "                a[i-1], a[i] = a[i], a[i-1]\n",
    "                # print(f'{_:<3}{i:<3}{a}')\n",
    "\n",
    "names = [4,3,9,0,3,8,2,3,1,4,1]\n",
    "\n",
    "bubble_sort(names)\n",
    "\n",
    "print(names)"
   ]
  },
  {
   "cell_type": "code",
   "execution_count": 29,
   "metadata": {},
   "outputs": [
    {
     "name": "stdout",
     "output_type": "stream",
     "text": [
      "#1: muffin has 190 calories\n",
      "#2: donut has 240 calories\n",
      "#3: bacon has 350 calories\n"
     ]
    }
   ],
   "source": [
    "snacks = [('bacon',350), ('donut', 240), ('muffin', 190)]\n",
    "\n",
    "def nested_bubble_sort(a):\n",
    "    # sorting for the snacks var with nested tuple numbers\n",
    "    for _ in range(len(a)):\n",
    "        for i in range(1, len(a)):\n",
    "            if a[i][1] < a[i-1][1]:\n",
    "                a[i-1], a[i] = a[i], a[i-1]\n",
    "\n",
    "nested_bubble_sort(snacks)\n",
    "\n",
    "for rank, (name, calories) in enumerate(snacks, 1):\n",
    "    print(f'#{rank}: {name} has {calories} calories')"
   ]
  },
  {
   "cell_type": "markdown",
   "metadata": {},
   "source": [
    "### Item7: Prefer `enumerate` over `range`\n",
    "\n",
    "`enumerate` is a built-in lazy generator that wraps any iterator. It yields pairs of the loop index of the item in the iterator."
   ]
  },
  {
   "cell_type": "code",
   "execution_count": 30,
   "metadata": {},
   "outputs": [
    {
     "name": "stdout",
     "output_type": "stream",
     "text": [
      "(0, 'chocolate')\n",
      "(1, 'vanilla')\n"
     ]
    }
   ],
   "source": [
    "flavors = ['chocolate', 'vanilla','strawberry','grape']\n",
    "\n",
    "it = enumerate(flavors)\n",
    "\n",
    "# manually advancing the generator\n",
    "print(next(it))\n",
    "print(next(it))"
   ]
  },
  {
   "cell_type": "code",
   "execution_count": 32,
   "metadata": {},
   "outputs": [
    {
     "name": "stdout",
     "output_type": "stream",
     "text": [
      "1: chocolate\n",
      "2: vanilla\n",
      "3: strawberry\n",
      "4: grape\n"
     ]
    }
   ],
   "source": [
    "# second arg of enumerate lets you specify which number to begin the count. Default is zero index.\n",
    "for i, flavor in enumerate(flavors, 1):\n",
    "    print(f'{i}: {flavor}')"
   ]
  },
  {
   "cell_type": "markdown",
   "metadata": {},
   "source": [
    "### Item 8: Use `zip` to process iterators in parallel"
   ]
  },
  {
   "cell_type": "code",
   "execution_count": 33,
   "metadata": {},
   "outputs": [
    {
     "name": "stdout",
     "output_type": "stream",
     "text": [
      "longest name: Coraline, 8 letters\n"
     ]
    }
   ],
   "source": [
    "names = ['Coraline', 'Jethro', 'Bill', 'Melody', 'Snerf']\n",
    "counts = [len(n) for n in names]\n",
    "longest_name = None\n",
    "max_len = 0\n",
    "\n",
    "for name, count in zip(names, counts):\n",
    "    if count > max_len:\n",
    "        longest_name = name\n",
    "        max_len = count\n",
    "\n",
    "print(f'longest name: {longest_name}, {max_len} letters')\n",
    "\n"
   ]
  },
  {
   "cell_type": "code",
   "execution_count": 34,
   "metadata": {},
   "outputs": [
    {
     "name": "stdout",
     "output_type": "stream",
     "text": [
      "Coraline 8\n",
      "Jethro 6\n",
      "Bill 4\n",
      "Melody 6\n",
      "Snerf 5\n"
     ]
    }
   ],
   "source": [
    "\n",
    "names.append('Rosalind')\n",
    "\n",
    "for name, count in zip(names, counts):\n",
    "    print(name, count)"
   ]
  },
  {
   "cell_type": "markdown",
   "metadata": {},
   "source": [
    "Note above that zip truncates the output to the smallest list (as it doesn't print out anything for Rosalind). Zip works by outputting tuples until one of the generators stops generating. This works well if you know iterators are of the same length.\n",
    "\n",
    "As an alternative use the `zip_longest` function from the `itertools` pkg if the lists are of different lengths. Default fill value is `None` and can be defined by using `fillvalue` arg"
   ]
  },
  {
   "cell_type": "code",
   "execution_count": 36,
   "metadata": {},
   "outputs": [
    {
     "name": "stdout",
     "output_type": "stream",
     "text": [
      "Coraline 8\n",
      "Jethro 6\n",
      "Bill 4\n",
      "Melody 6\n",
      "Snerf 5\n",
      "Rosalind unknown\n"
     ]
    }
   ],
   "source": [
    "import itertools\n",
    "\n",
    "for name, count in itertools.zip_longest(names, counts, fillvalue=\"unknown\"):\n",
    "    print(name, count)"
   ]
  },
  {
   "cell_type": "markdown",
   "metadata": {},
   "source": [
    "### Item 9 Avoid `else` blocks after `for` and `while` loops"
   ]
  },
  {
   "cell_type": "markdown",
   "metadata": {},
   "source": [
    "### Item 10: Prevent Repitition with Assignment Expressions\n",
    "\n",
    "Also called the walrus operator"
   ]
  },
  {
   "cell_type": "code",
   "execution_count": 57,
   "metadata": {},
   "outputs": [],
   "source": [
    "fresh_fruit = {\n",
    "    'apple':3,\n",
    "    'banana':4,\n",
    "    'lemon':5\n",
    "}\n",
    "\n",
    "def make_lemonade(count):\n",
    "    print(f'Making {count} lemons into lemonade')\n",
    "    \n",
    "def make_cider(count):\n",
    "    print(f'Making cider with {count} apples')\n",
    "    \n",
    "def make_smoothies(count):\n",
    "    assert count > 0\n",
    "    print(f\"Making smoothies with {count} banana slices\")\n",
    "    \n",
    "def slice_bananas(count):\n",
    "    \n",
    "    print(f'Slicing {count} bananas')\n",
    "    return count * 4\n",
    "    \n",
    "def out_of_stock():\n",
    "    print('Out of stock!')\n",
    "    \n",
    "\n",
    "    \n",
    "\n",
    "class OutOfBananas(Exception):\n",
    "    pass"
   ]
  },
  {
   "cell_type": "code",
   "execution_count": 58,
   "metadata": {},
   "outputs": [
    {
     "name": "stdout",
     "output_type": "stream",
     "text": [
      "Making 5 lemons into lemonade\n",
      "Out of stock!\n"
     ]
    }
   ],
   "source": [
    "# old way\n",
    "# count = fresh_fruit.get('lemon', 0)\n",
    "# condenses the variable assignment to a combined assignment and expression, hence the name\n",
    "\n",
    "if count:= fresh_fruit.get('lemon',0): #walus operator condenses both lines\n",
    "    make_lemonade(count)\n",
    "else:\n",
    "    out_of_stock()\n",
    "    \n",
    "    \n",
    "if (count:= fresh_fruit.get('apple',0)) >=4:\n",
    "    make_cider(count)\n",
    "else:\n",
    "    out_of_stock()"
   ]
  },
  {
   "cell_type": "code",
   "execution_count": 59,
   "metadata": {},
   "outputs": [
    {
     "name": "stdout",
     "output_type": "stream",
     "text": [
      "Slicing 4 bananas\n",
      "Making smoothies with 16 banana slices\n"
     ]
    }
   ],
   "source": [
    "pieces = 0\n",
    "if (count:= fresh_fruit.get('banana',0)) >=2:\n",
    "    pieces = slice_bananas(count)\n",
    "    \n",
    "try:\n",
    "    smoothies = make_smoothies(pieces)\n",
    "except OutOfBananas:\n",
    "    out_of_stock()"
   ]
  },
  {
   "cell_type": "code",
   "execution_count": 53,
   "metadata": {},
   "outputs": [
    {
     "name": "stdout",
     "output_type": "stream",
     "text": [
      "Making 5 lemons into lemonade\n"
     ]
    }
   ],
   "source": [
    "# switch/case statement aren't expressly available, but the walrus helps\n",
    "\n",
    "if (count:= fresh_fruit.get('banana',0)) >= 2:\n",
    "    pieces = slice_bananas(count)\n",
    "    to_enjoy = make_smoothies(pieces)\n",
    "elif (count:= fresh_fruit.get('apple',0)) >=4:\n",
    "    to_enjoy = make_cider(count)\n",
    "elif (count:= fresh_fruit.get('lemon', 0)):\n",
    "    to_enjoy = make_lemonade(count)\n",
    "else:\n",
    "    to_enjoy='Nothing'"
   ]
  },
  {
   "cell_type": "code",
   "execution_count": 54,
   "metadata": {},
   "outputs": [
    {
     "name": "stdout",
     "output_type": "stream",
     "text": [
      "[('apple', 1), ('banana', 3), ('papaya', 5), ('lemon', 2), ('lime', 5), ('orange', 3), ('melon', 2)]\n"
     ]
    }
   ],
   "source": [
    "# do/while loops are also not available in python, but \n",
    "\n",
    "FRUIT_TO_PICK = [\n",
    "    {'apple': 1, 'banana': 3, 'papaya':5},\n",
    "    {'lemon': 2, 'lime': 5},\n",
    "    {'orange': 3, 'melon': 2},\n",
    "]\n",
    "\n",
    "\n",
    "def pick_fruit():\n",
    "    if FRUIT_TO_PICK:\n",
    "        return FRUIT_TO_PICK.pop(0)\n",
    "    else:\n",
    "        return []\n",
    "\n",
    "\n",
    "def make_juice(fruit, count):\n",
    "    return[(fruit, count)]\n",
    "\n",
    "bottles = []\n",
    "while next_fruit:= pick_fruit():\n",
    "    for fruit, count in next_fruit.items():\n",
    "        batch = make_juice(fruit, count)\n",
    "        bottles.extend(batch)\n",
    "\n",
    "print(bottles)\n",
    "    "
   ]
  },
  {
   "cell_type": "markdown",
   "metadata": {},
   "source": [
    "# CH 2: Lists and Dictionaries\n",
    "\n",
    "### Item 13: Prefer Catch-All Unpacking Over Slicing\n",
    "\n",
    "Python supports catch-all expressions via starred expressions `*`"
   ]
  },
  {
   "cell_type": "code",
   "execution_count": 61,
   "metadata": {},
   "outputs": [
    {
     "name": "stdout",
     "output_type": "stream",
     "text": [
      "20 19 [15, 9, 8, 7, 6, 4, 1, 0]\n",
      "20 [19, 15, 9, 8, 7, 6, 4, 1] 0\n"
     ]
    }
   ],
   "source": [
    "car_ages = [0, 9, 4, 8, 7, 20, 19, 1, 6, 15]\n",
    "car_ages_descending = sorted(car_ages, reverse=True)\n",
    "\n",
    "oldest, second_oldest, *others = car_ages_descending #this syntax allows one part of the unpacking to receive the rest\n",
    "print(oldest, second_oldest, others)\n",
    "\n",
    "# code is shorter, easier to read, and does not rely on indexing which is brittle\n",
    "\n",
    "# starred expression can appear in any position\n",
    "oldest, *middle, youngest = car_ages_descending #this syntax allows one part of the unpacking to receive the rest\n",
    "print(oldest, middle, youngest)"
   ]
  },
  {
   "cell_type": "code",
   "execution_count": 64,
   "metadata": {},
   "outputs": [
    {
     "name": "stdout",
     "output_type": "stream",
     "text": [
      "csv header:  ('Date', 'Make', 'Model', 'Year', 'Price')\n",
      "rowcount:  200\n"
     ]
    }
   ],
   "source": [
    "def generate_csv():\n",
    "    yield ('Date', 'Make' , 'Model', 'Year', 'Price')\n",
    "    for i in range(100):\n",
    "        yield ('2019-03-25', 'Honda', 'Fit' , '2010', '$3400')\n",
    "        yield ('2019-03-26', 'Ford', 'F150' , '2008', '$2400')\n",
    "\n",
    "csv = generate_csv()\n",
    "\n",
    "header, *rows = csv\n",
    "\n",
    "print('csv header: ', header)\n",
    "print('rowcount: ', len(rows))"
   ]
  },
  {
   "cell_type": "markdown",
   "metadata": {},
   "source": [
    "### Item 14: Sort by Complex Criteria Using the `key` Parameter\n",
    "\n",
    "`sort()` defaults to ordering a lists contents by natural ascending order, but may not always work the way you want when you have a custom class"
   ]
  },
  {
   "cell_type": "code",
   "execution_count": 1,
   "metadata": {},
   "outputs": [],
   "source": [
    "class Tool:\n",
    "    def __init__(self, name, weight):\n",
    "        self.name = name\n",
    "        self.weight = weight\n",
    "    def __repr__(self): # Item 75: repr method used for debugging\n",
    "        return f'Tool({self.name!r}, {self.weight})'\n",
    "    \n",
    "tools = [\n",
    "    Tool('level', 3.5),\n",
    "    Tool('hammer',1.25),\n",
    "    Tool('screwdriver', 0.5),\n",
    "    Tool('chisel', 0.25)\n",
    "]"
   ]
  },
  {
   "cell_type": "code",
   "execution_count": 2,
   "metadata": {},
   "outputs": [
    {
     "ename": "TypeError",
     "evalue": "'<' not supported between instances of 'Tool' and 'Tool'",
     "output_type": "error",
     "traceback": [
      "\u001b[1;31m---------------------------------------------------------------------------\u001b[0m",
      "\u001b[1;31mTypeError\u001b[0m                                 Traceback (most recent call last)",
      "\u001b[1;32m<ipython-input-2-934c749d7824>\u001b[0m in \u001b[0;36m<module>\u001b[1;34m\u001b[0m\n\u001b[1;32m----> 1\u001b[1;33m \u001b[0mtools\u001b[0m\u001b[1;33m.\u001b[0m\u001b[0msort\u001b[0m\u001b[1;33m(\u001b[0m\u001b[1;33m)\u001b[0m\u001b[1;33m\u001b[0m\u001b[1;33m\u001b[0m\u001b[0m\n\u001b[0m",
      "\u001b[1;31mTypeError\u001b[0m: '<' not supported between instances of 'Tool' and 'Tool'"
     ]
    }
   ],
   "source": [
    "tools.sort()"
   ]
  },
  {
   "cell_type": "code",
   "execution_count": 3,
   "metadata": {},
   "outputs": [
    {
     "name": "stdout",
     "output_type": "stream",
     "text": [
      "Unsorted: [Tool('level', 3.5), Tool('hammer', 1.25), Tool('screwdriver', 0.5), Tool('chisel', 0.25)]\n",
      "Sorted: [Tool('chisel', 0.25), Tool('hammer', 1.25), Tool('level', 3.5), Tool('screwdriver', 0.5)]\n"
     ]
    }
   ],
   "source": [
    "print('Unsorted:', repr(tools))\n",
    "tools.sort(key=lambda x: x.name)\n",
    "print('Sorted:', tools)"
   ]
  },
  {
   "cell_type": "code",
   "execution_count": 4,
   "metadata": {},
   "outputs": [
    {
     "name": "stdout",
     "output_type": "stream",
     "text": [
      "By wieght: [Tool('chisel', 0.25), Tool('screwdriver', 0.5), Tool('hammer', 1.25), Tool('level', 3.5)]\n"
     ]
    }
   ],
   "source": [
    "tools.sort(key=lambda x: x.weight)\n",
    "print('By wieght:', tools)"
   ]
  },
  {
   "cell_type": "code",
   "execution_count": 7,
   "metadata": {},
   "outputs": [
    {
     "name": "stdout",
     "output_type": "stream",
     "text": [
      "[Tool('drill', 4), Tool('sander', 4), Tool('circular saw', 5), Tool('jackhammer', 40)]\n"
     ]
    }
   ],
   "source": [
    "# sorting by multiple criteria? Use tuple\n",
    "\n",
    "power_tools = [\n",
    "    Tool('drill', 4),\n",
    "    Tool('circular saw', 5),\n",
    "    Tool('jackhammer', 40),\n",
    "    Tool('sander', 4),\n",
    "]\n",
    "\n",
    "saw = (5, 'circular saw')\n",
    "jackhammer = (40, 'jackhammer')\n",
    "assert not (jackhammer < saw)\n",
    "\n",
    "drill = (4, 'drill')\n",
    "sander = (4, 'sander')\n",
    "assert drill[0] == sander[0]  # Same weight\n",
    "assert drill[1] < sander[1]   # Alphabetically less\n",
    "assert drill < sander         # Thus, drill comes first\n",
    "\n",
    "power_tools.sort(key= lambda x: (x.weight, x.name))\n",
    "print(power_tools)"
   ]
  },
  {
   "cell_type": "markdown",
   "metadata": {},
   "source": []
  },
  {
   "cell_type": "markdown",
   "metadata": {},
   "source": [
    "## CH 3: Functions\n",
    "\n",
    "\n",
    "### Item 19: Never unpack more than 3 vars when functions return multiple values"
   ]
  },
  {
   "cell_type": "code",
   "execution_count": null,
   "metadata": {},
   "outputs": [],
   "source": []
  }
 ],
 "metadata": {
  "kernelspec": {
   "display_name": "python",
   "language": "python",
   "name": "python3"
  },
  "language_info": {
   "codemirror_mode": {
    "name": "ipython",
    "version": 3
   },
   "file_extension": ".py",
   "mimetype": "text/x-python",
   "name": "python",
   "nbconvert_exporter": "python",
   "pygments_lexer": "ipython3",
   "version": "3.8.12"
  },
  "orig_nbformat": 4
 },
 "nbformat": 4,
 "nbformat_minor": 2
}
